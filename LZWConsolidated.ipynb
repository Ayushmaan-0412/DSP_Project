{
  "nbformat": 4,
  "nbformat_minor": 0,
  "metadata": {
    "colab": {
      "provenance": [],
      "include_colab_link": true
    },
    "kernelspec": {
      "name": "python3",
      "display_name": "Python 3"
    },
    "language_info": {
      "name": "python"
    }
  },
  "cells": [
    {
      "cell_type": "markdown",
      "metadata": {
        "id": "view-in-github",
        "colab_type": "text"
      },
      "source": [
        "<a href=\"https://colab.research.google.com/github/Ayushmaan-0412/DSP_Project/blob/main/LZWConsolidated.ipynb\" target=\"_parent\"><img src=\"https://colab.research.google.com/assets/colab-badge.svg\" alt=\"Open In Colab\"/></a>"
      ]
    },
    {
      "cell_type": "code",
      "execution_count": null,
      "metadata": {
        "colab": {
          "base_uri": "https://localhost:8080/"
        },
        "id": "WsClCR1BhXKR",
        "outputId": "5247609f-ddab-4e1d-eef7-1a8bde6c8862"
      },
      "outputs": [
        {
          "output_type": "stream",
          "name": "stdout",
          "text": [
            "Encoding time =  0.00272369384765625 seconds\n",
            "Compressed list saved as a text file\n",
            "This concludes the compression portion of the work!\n",
            "We now move onto the de-compression part!\n",
            "Decoding time =  0.0011954307556152344 seconds\n",
            "Finally, the output image is recieved\n",
            "The average code length is:  2.9550673000791767\n",
            "5835\n",
            "5052\n",
            "The compression ratio is:  1.1549881235154393\n"
          ]
        }
      ],
      "source": [
        "import base64\n",
        "import cv2\n",
        "import numpy as np\n",
        "import time\n",
        "from pathlib import Path\n",
        "\n",
        "def imgToStr():\n",
        "    with open(\"dog.jpg\", \"rb\") as image2string:\n",
        "\t      converted_string = base64.b64encode(image2string.read())\n",
        "    return (converted_string.decode('utf-8'))\n",
        "\n",
        "def getImg(decompstr):\n",
        "    byte = decompstr.encode('utf-8')\n",
        "    decodeit = open('outputImage.jpeg', 'wb')\n",
        "    decodeit.write(base64.b64decode((byte)))\n",
        "    decodeit.close()\n",
        "\n",
        "def compress(data):\n",
        "    stime = time.time()\n",
        "    dictionary = {chr(i): i for i in range(256)}  # Initialize the dictionary with ASCII values.\n",
        "    current_code = 256  # Start encoding new sequences from 256.\n",
        "    result = []\n",
        "    buffer = \"\"\n",
        "\n",
        "    for char in data:\n",
        "        buffer += char\n",
        "        if buffer not in dictionary:\n",
        "            dictionary[buffer] = current_code\n",
        "            current_code += 1\n",
        "            result.append(dictionary[buffer[:-1]])\n",
        "            buffer = char\n",
        "\n",
        "    if buffer:\n",
        "        result.append(dictionary[buffer])\n",
        "\n",
        "    etime = time.time()\n",
        "    print(\"Encoding time = \" , (etime-stime) , \"seconds\")\n",
        "\n",
        "    return result\n",
        "\n",
        "def saveAsFile(compstr):\n",
        "    with open('my_file.txt', 'w') as f:\n",
        "      for item in compstr:\n",
        "        f.write(\"%s\\t\" % item)\n",
        "\n",
        "def fileToStr():\n",
        "    with open('my_file.txt','r') as f:\n",
        "        contents = f.read()\n",
        "    my_list = contents.split()\n",
        "    return my_list\n",
        "\n",
        "def decompress(compressed_data):\n",
        "    stime = time.time()\n",
        "    dictionary = {i: chr(i) for i in range(256)}  # Initialize the dictionary with ASCII values.\n",
        "    current_code = 256  # Start decoding new sequences from 256.\n",
        "    result = []\n",
        "    prev_code = compressed_data[0]\n",
        "    result.append(dictionary[prev_code])\n",
        "    compressed_data = compressed_data[1:]\n",
        "\n",
        "    for code in compressed_data:\n",
        "        if code in dictionary:\n",
        "            entry = dictionary[code]\n",
        "        elif code == current_code:\n",
        "            entry = dictionary[prev_code] + dictionary[prev_code][0]\n",
        "        else:\n",
        "            raise ValueError(\"Invalid input data\")\n",
        "\n",
        "        result.append(entry)\n",
        "        dictionary[current_code] = dictionary[prev_code] + entry[0]\n",
        "        current_code += 1\n",
        "        prev_code = code\n",
        "    etime = time.time()\n",
        "    print(\"Decoding time = \" , (etime-stime) , \"seconds\")\n",
        "\n",
        "    return \"\".join(result)\n",
        "\n",
        "if __name__ == \"__main__\":\n",
        "    string = imgToStr()\n",
        "    #print(string)\n",
        "    compstr = compress(string)\n",
        "    #print(compstr)\n",
        "    saveAsFile(compstr)\n",
        "    print(\"Compressed list saved as a text file\")\n",
        "    print(\"This concludes the compression portion of the work!\")\n",
        "    print(\"We now move onto the de-compression part!\")\n",
        "    compdat = fileToStr()\n",
        "    #print(compdat)\n",
        "    lenlist = []\n",
        "    for i in compdat:\n",
        "        lenlist.append(len(i))\n",
        "    acl = np.mean(lenlist)\n",
        "    compdat = [int(item) for item in compdat]\n",
        "    #print(compdat)\n",
        "    decompstr = decompress(compdat)\n",
        "    #print(decompstr)\n",
        "    getImg(decompstr)\n",
        "    print(\"Finally, the output image is recieved\")\n",
        "    print(\"The average code length is: \" , acl)\n",
        "    originalImageSize = Path('dog.jpg').stat().st_size\n",
        "    print(originalImageSize)\n",
        "    compressedSize = len(compdat)\n",
        "    print(compressedSize)\n",
        "    cr = originalImageSize/compressedSize\n",
        "    print(\"The compression ratio is: \" , cr)"
      ]
    }
  ]
}