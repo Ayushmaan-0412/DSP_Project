{
  "cells": [
    {
      "cell_type": "markdown",
      "metadata": {
        "id": "view-in-github",
        "colab_type": "text"
      },
      "source": [
        "<a href=\"https://colab.research.google.com/github/Ayushmaan-0412/DSP_Project/blob/main/ArithmeticEncoding.ipynb\" target=\"_parent\"><img src=\"https://colab.research.google.com/assets/colab-badge.svg\" alt=\"Open In Colab\"/></a>"
      ]
    },
    {
      "cell_type": "code",
      "execution_count": null,
      "metadata": {
        "id": "dVCVdZpUmwsC"
      },
      "outputs": [],
      "source": [
        "import numpy as np\n",
        "import cv2\n",
        "from google.colab.patches import cv2_imshow\n",
        "import time\n",
        "# Start the timer\n",
        "start_time = time.time()"
      ]
    },
    {
      "cell_type": "code",
      "execution_count": null,
      "metadata": {
        "colab": {
          "base_uri": "https://localhost:8080/",
          "height": 117
        },
        "id": "lxUWe5QEnFHj",
        "outputId": "8b053636-8986-4d8e-bfcd-d99cd8fb5e0e"
      },
      "outputs": [
        {
          "output_type": "display_data",
          "data": {
            "text/plain": [
              "<PIL.Image.Image image mode=L size=100x100>"
            ],
            "image/png": "[encoded data removed]"
          },
          "metadata": {}
        }
      ],
      "source": [
        "inputImg = cv2.imread('dog.jpg', 0)  # read the image\n",
        "#does in grey\n",
        "cv2_imshow(inputImg)\n",
        "\n",
        "row = inputImg.shape[0]\n",
        "col = inputImg.shape[1]"
      ]
    },
    {
      "cell_type": "code",
      "execution_count": null,
      "metadata": {
        "colab": {
          "base_uri": "https://localhost:8080/"
        },
        "id": "HOPnZvbmndCx",
        "outputId": "9b6627fe-1af4-4318-9492-e9f43104c174"
      },
      "outputs": [
        {
          "name": "stdout",
          "output_type": "stream",
          "text": [
            "1. Enter the block size: 200\n",
            "2. Enter the float size (16-32-64): 16\n"
          ]
        }
      ],
      "source": [
        "img = np.array(inputImg).flatten()  # flatten the image into 1d array\n",
        "frq = np.zeros(256, dtype=int)  # frq of all gray scale levels\n",
        "blockSize = int(input('1. Enter the block size: '))\n",
        "floatSize = int(input('2. Enter the float size (16-32-64): '))\n",
        "total = row * col\n",
        "if floatSize == 16:\n",
        "    res = np.zeros(total // blockSize, dtype=np.float16)  # final codes\n",
        "    # array of probability of each of 256 gray scale levles\n",
        "    prob = np.zeros(256, dtype=np.float16)\n",
        "elif floatSize == 32:\n",
        "    res = np.zeros(total // blockSize, dtype=np.float32)  # final codes\n",
        "    prob = np.zeros(256, dtype=np.float32)\n",
        "elif floatSize == 64:\n",
        "    res = np.zeros(total // blockSize, dtype=np.float64)  # final codes\n",
        "    prob = np.zeros(256, dtype=np.float64)"
      ]
    },
    {
      "cell_type": "code",
      "execution_count": null,
      "metadata": {
        "id": "wt_eW0O_nZEI",
        "outputId": "7b95030e-2ca4-4afd-f753-300d0ea75bb4",
        "colab": {
          "base_uri": "https://localhost:8080/"
        }
      },
      "outputs": [
        {
          "output_type": "stream",
          "name": "stdout",
          "text": [
            "Encoding time: 14.531979084014893 seconds\n"
          ]
        }
      ],
      "source": [
        "\n",
        "# prob = np.zeros(256)  # array of probability of each of 256 gray scale levles\n",
        "grayLvl = 256\n",
        "\n",
        "for i in img:\n",
        "    frq[i] += 1\n",
        "\n",
        "for i in range(0, grayLvl):\n",
        "    prob[i] = frq[i] / (total)\n",
        "\n",
        "for i in range(1, grayLvl):\n",
        "    prob[i] += prob[i - 1]\n",
        "\n",
        "for i in range(0, total, blockSize):\n",
        "    l = 0.0\n",
        "    r = 1.0\n",
        "    for j in range(i, i + blockSize):\n",
        "        oldLeft = l\n",
        "        oldRight = r\n",
        "        # base  + (range) * prob[cur pixel]\n",
        "        if img[j] != 0:\n",
        "            l = oldLeft + (oldRight - oldLeft) * prob[img[j] - 1]\n",
        "        r = oldLeft + (oldRight - oldLeft) * prob[img[j]]\n",
        "    # result of the block is the average of (upper - lower)\n",
        "    it = int(i / blockSize)\n",
        "    res[it] = (l + r) / 2\n",
        "\n",
        "# export encoded tags && pro\n",
        "np.save('./encoded-image', res)\n",
        "np.save('./probability', prob)\n",
        "blockSizeFile = open('blockSizeFile.txt', \"w\")\n",
        "blockSizeFile.write(str(blockSize))  # read block size\n",
        "blockSizeFile.write('\\n' + str(row))  # read row dimension\n",
        "blockSizeFile.write('\\n' + str(col))  # read col dimension\n",
        "end_time = time.time()\n",
        "\n",
        "# Calculate the elapsed time\n",
        "encoding_time = end_time - start_time\n",
        "\n",
        "# Print the encoding time in seconds\n",
        "print(f\"Encoding time: {encoding_time} seconds\")\n",
        "# terminate showing the image on pressing any key\n",
        "cv2.waitKey(0)\n",
        "cv2.destroyAllWindows()"
      ]
    },
    {
      "cell_type": "code",
      "execution_count": null,
      "metadata": {
        "id": "jwaHoE8OoCZP",
        "outputId": "4a5b66e1-8880-4195-9dd7-e8ae33dd5aad",
        "colab": {
          "base_uri": "https://localhost:8080/"
        }
      },
      "outputs": [
        {
          "output_type": "stream",
          "name": "stdout",
          "text": [
            "Compression Ratio: 25.59\n"
          ]
        }
      ],
      "source": [
        "import os\n",
        "\n",
        "# Original image file path\n",
        "original_image_path = 'dog.jpg'\n",
        "\n",
        "# Load the original image\n",
        "inputImg = cv2.imread(original_image_path, 0)\n",
        "\n",
        "# Dimensions of the original image\n",
        "row = inputImg.shape[0]\n",
        "col = inputImg.shape[1]\n",
        "\n",
        "# Size of the original image in bytes\n",
        "original_image_size = os.path.getsize(original_image_path)\n",
        "\n",
        "# Compressed data file path and its size\n",
        "compressed_data_path = './encoded-image.npy'\n",
        "compressed_data_size = os.path.getsize(compressed_data_path)\n",
        "\n",
        "# Calculate the compression ratio\n",
        "compression_ratio = original_image_size / compressed_data_size\n",
        "\n",
        "# Print the compression ratio\n",
        "print(f\"Compression Ratio: {compression_ratio:.2f}\")"
      ]
    },
    {
      "cell_type": "code",
      "execution_count": null,
      "metadata": {
        "id": "fnXDQz7volPp"
      },
      "outputs": [],
      "source": [
        "#decoding\n",
        "from PIL import Image\n",
        "import numpy as np\n",
        "res = np.load('./encoded-image.npy')\n",
        "prob = np.load('./probability.npy')\n",
        "\n",
        "grayLvl = 256\n",
        "blockSizeFile = open('blockSizeFile.txt', \"r\")\n",
        "blockSize = int((float(blockSizeFile.readline())))\n",
        "row = int(blockSizeFile.readline())\n",
        "col = int(blockSizeFile.readline())\n",
        "total = row * col\n",
        "out = np.zeros(total)"
      ]
    },
    {
      "cell_type": "code",
      "execution_count": null,
      "metadata": {
        "colab": {
          "base_uri": "https://localhost:8080/"
        },
        "id": "UBlSOnG4pphh",
        "outputId": "ba0df431-739e-4a0c-d7f6-1d59e551c7d3"
      },
      "outputs": [
        {
          "output_type": "stream",
          "name": "stdout",
          "text": [
            "[177. 177. 178. ... 174. 174. 174.]\n"
          ]
        }
      ],
      "source": [
        "for i in range(0, total, blockSize):\n",
        "    l = 0.0\n",
        "    r = 1.0\n",
        "    for j in range(i, i + blockSize):  # loop over block size  = 16\n",
        "        for k in range(0, grayLvl):\n",
        "            tag = res[int(i / blockSize)]\n",
        "            if tag < l + (r - l) * prob[k]:  # if This interval cover me\n",
        "                oldLeft = l\n",
        "                oldRight = r\n",
        "                if k != 0:\n",
        "                    l = oldLeft + (oldRight - oldLeft) * prob[k - 1]\n",
        "                r = oldLeft + (oldRight - oldLeft) * prob[k]\n",
        "                out[j] = k\n",
        "                break\n",
        "\n",
        "print(out)\n",
        "out = np.array(out).reshape((row, col))"
      ]
    },
    {
      "cell_type": "code",
      "execution_count": null,
      "metadata": {
        "colab": {
          "base_uri": "https://localhost:8080/",
          "height": 256
        },
        "id": "zVNQOaRmprOm",
        "outputId": "7623c048-620c-450a-e980-f161ee76bd9c"
      },
      "outputs": [
        {
          "output_type": "display_data",
          "data": {
            "text/plain": [
              "<PIL.Image.Image image mode=L size=100x100>"
            ],
            "image/png": "[encoded data removed]"
          },
          "metadata": {}
        },
        {
          "output_type": "stream",
          "name": "stdout",
          "text": [
            "Decoding time: 4.3608081340789795 seconds\n"
          ]
        },
        {
          "output_type": "display_data",
          "data": {
            "text/plain": [
              "array([[0, 0, 0, ..., 0, 0, 0],\n",
              "       [0, 0, 0, ..., 0, 0, 0],\n",
              "       [0, 0, 0, ..., 0, 0, 0],\n",
              "       ...,\n",
              "       [0, 0, 0, ..., 0, 0, 0],\n",
              "       [0, 0, 0, ..., 0, 0, 0],\n",
              "       [0, 0, 0, ..., 0, 0, 0]], dtype=uint8)"
            ]
          },
          "metadata": {}
        }
      ],
      "source": [
        "\n",
        "import numpy as np\n",
        "import cv2\n",
        "start_time = time.time()\n",
        "# Load the encoded data and probability\n",
        "res = np.load('./encoded-image.npy')\n",
        "prob = np.load('./probability.npy')\n",
        "\n",
        "# Load block size and image dimensions\n",
        "with open('blockSizeFile.txt', 'r') as blockSizeFile:\n",
        "    blockSize = int(float(blockSizeFile.readline()))\n",
        "    row = int(blockSizeFile.readline())\n",
        "    col = int(blockSizeFile.readline())\n",
        "\n",
        "total = row * col\n",
        "decoded_image = np.zeros(total, dtype=np.uint8)\n",
        "\n",
        "floatSize = res.dtype.itemsize * 8  # Calculate float size based on data type\n",
        "grayLvl = 256\n",
        "\n",
        "for i in range(0, total, blockSize):\n",
        "    l = 0.0\n",
        "    r = 1.0\n",
        "    it = int(i / blockSize)\n",
        "    code = res[it]\n",
        "\n",
        "    for j in range(i, i + blockSize):\n",
        "      for pixel_value in range(1, grayLvl):  # Change the range to 1 to 255\n",
        "        oldLeft = l\n",
        "        oldRight = r\n",
        "        l = oldLeft + (oldRight - oldLeft) * prob[pixel_value - 1]\n",
        "        r = oldLeft + (oldRight - oldLeft) * prob[pixel_value]\n",
        "        if l <= code < r:\n",
        "            decoded_image[j] = pixel_value - 1\n",
        "            break\n",
        "\n",
        "# Reshape the decoded image to its original dimensions\n",
        "decoded_image = decoded_image.reshape(row, col)\n",
        "\n",
        "# Display the decoded image\n",
        "cv2_imshow(decoded_image)\n",
        "\n",
        "# Save the decoded image to a file\n",
        "cv2.imwrite('decoded_dog.jpg', decoded_image)\n",
        "end_time = time.time()\n",
        "\n",
        "# Calculate the elapsed time\n",
        "decoding_time = end_time - start_time\n",
        "# Terminate the image display when any key is pressed\n",
        "# Print the decoding time in seconds\n",
        "print(f\"Decoding time: {decoding_time} seconds\")\n",
        "# Show the decoded image\n",
        "display(decoded_image)\n",
        "cv2.waitKey(0)\n",
        "cv2.destroyAllWindows()"
      ]
    },
    {
      "cell_type": "code",
      "execution_count": null,
      "metadata": {
        "colab": {
          "base_uri": "https://localhost:8080/"
        },
        "id": "m9z684viE66x",
        "outputId": "a9513e52-91f3-424d-cf90-36489281e442"
      },
      "outputs": [
        {
          "output_type": "stream",
          "name": "stdout",
          "text": [
            "PSNR: 27.49768773490345 dB\n"
          ]
        }
      ],
      "source": [
        "# Load the original image\n",
        "original_img = cv2.imread('dog.jpg', 0)\n",
        "\n",
        "# Load the decoded image\n",
        "decoded_img = cv2.imread('decoded_dog.jpg', 0)\n",
        "\n",
        "if original_img is None:\n",
        "    print(\"Error: Could not load the original image.\")\n",
        "elif decoded_img is None:\n",
        "    print(\"Error: Could not load the decoded image.\")\n",
        "else:\n",
        "    # Calculate the Mean Squared Error (MSE)\n",
        "    mse = np.mean((original_img - decoded_img) ** 2)\n",
        "\n",
        "    # Calculate the maximum possible pixel value\n",
        "    max_pixel_value = 255  # For 8-bit grayscale images\n",
        "\n",
        "    # Calculate the PSNR\n",
        "    psnr = 20 * np.log10(max_pixel_value / np.sqrt(mse))\n",
        "\n",
        "    print(f'PSNR: {psnr} dB')"
      ]
    },
    {
      "cell_type": "code",
      "source": [
        "from PIL import Image\n",
        "from IPython.display import display\n",
        "# Load the image\n",
        "image = Image.open(\"dog.jpg\")\n",
        "display(image)"
      ],
      "metadata": {
        "colab": {
          "base_uri": "https://localhost:8080/",
          "height": 117
        },
        "id": "jSge2JWtCnSW",
        "outputId": "9fc2815d-a3f5-45de-9a6b-84d74741a52f"
      },
      "execution_count": null,
      "outputs": [
        {
          "output_type": "display_data",
          "data": {
            "text/plain": [
              "<PIL.JpegImagePlugin.JpegImageFile image mode=RGB size=100x100>"
            ],
            "image/png": "[encoded data removed]"
          },
          "metadata": {}
        }
      ]
    },
    {
      "cell_type": "code",
      "execution_count": null,
      "metadata": {
        "id": "LJuCE08SEzv_",
        "colab": {
          "base_uri": "https://localhost:8080/",
          "height": 117
        },
        "outputId": "99ab0949-8930-411e-eff7-d86c01c2d426"
      },
      "outputs": [
        {
          "output_type": "display_data",
          "data": {
            "text/plain": [
              "<PIL.Image.Image image mode=RGB size=100x100>"
            ],
            "image/png": "[encoded data removed]"
          },
          "metadata": {}
        }
      ],
      "source": [
        "\n",
        "# Load the original image\n",
        "original_img = cv2.imread('dog.jpg')\n",
        "\n",
        "# Define the compression quality (adjust this value)\n",
        "compression_quality = 26  # You may need to adjust this value\n",
        "\n",
        "# Encode the image with JPEG compression\n",
        "_, encoded_img = cv2.imencode('.jpg', original_img, [int(cv2.IMWRITE_JPEG_QUALITY), compression_quality])\n",
        "\n",
        "# Decode the image to view the compressed result\n",
        "compressed_img = cv2.imdecode(encoded_img, cv2.IMREAD_COLOR)\n",
        "cv2.imwrite('compressed_img.jpg', compressed_img)\n",
        "# Show the compressed image\n",
        "cv2_imshow(compressed_img)\n",
        "cv2.waitKey(0)\n",
        "cv2.destroyAllWindows()\n"
      ]
    }
  ],
  "metadata": {
    "colab": {
      "provenance": [],
      "authorship_tag": "ABX9TyNU4oYso2cIEWEDA2cWDR2Q",
      "include_colab_link": true
    },
    "kernelspec": {
      "display_name": "Python 3",
      "name": "python3"
    },
    "language_info": {
      "name": "python"
    }
  },
  "nbformat": 4,
  "nbformat_minor": 0
}