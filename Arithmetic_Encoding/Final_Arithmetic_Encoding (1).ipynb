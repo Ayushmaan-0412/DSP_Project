{
  "cells": [
    {
      "cell_type": "code",
      "execution_count": 1,
      "metadata": {
        "colab": {
          "base_uri": "https://localhost:8080/",
          "height": 117
        },
        "id": "cuexjZUnST1z",
        "outputId": "52be8102-3f98-4089-f3cc-fa908bf33db7"
      },
      "outputs": [
        {
          "output_type": "display_data",
          "data": {
            "text/plain": [
              "<PIL.JpegImagePlugin.JpegImageFile image mode=RGB size=100x100>"
            ],
            "image/png": "[encoded data removed]"
          },
          "metadata": {}
        }
      ],
      "source": [
        "from PIL import Image\n",
        "import numpy as np\n",
        "from IPython.display import display\n",
        "# Load the image\n",
        "image = Image.open(\"dog.jpg\")\n",
        "display(image)\n",
        "import time\n",
        "# Start the timer\n",
        "\n"
      ]
    },
    {
      "cell_type": "code",
      "execution_count": 28,
      "metadata": {
        "id": "LS0uJ_z2_fpc",
        "colab": {
          "base_uri": "https://localhost:8080/",
          "height": 134
        },
        "outputId": "7574b434-2f8c-4a7d-e499-c5bd302e3ce2"
      },
      "outputs": [
        {
          "output_type": "display_data",
          "data": {
            "text/plain": [
              "<PIL.Image.Image image mode=L size=100x100>"
            ],
            "image/png": "[encoded data removed]"
          },
          "metadata": {}
        },
        {
          "output_type": "stream",
          "name": "stdout",
          "text": [
            "Encoding time: 0.28633642196655273 seconds\n"
          ]
        }
      ],
      "source": [
        "# Convert the image to grayscale\n",
        "gray_image = image.convert('L')\n",
        "display(gray_image)\n",
        "# Get the pixel data as a NumPy array\n",
        "image_data = np.array(gray_image)\n",
        "\n",
        "# Define the range for encoding (0.0 to 1.0)\n",
        "low = 0.0\n",
        "high = 1.0\n",
        "range_size = high - low\n",
        "\n",
        "# Define the number of bits for encoding\n",
        "num_bits = 16\n",
        "\n",
        "# Initialize the result with all zeros\n",
        "result = 0\n",
        "\n",
        "# Flatten the image data\n",
        "flat_image_data = image_data.flatten()\n",
        "start_time = time.time()\n",
        "# Perform arithmetic encoding\n",
        "for pixel_value in flat_image_data:\n",
        "    # Update the range based on the pixel value\n",
        "    range_size /= 256\n",
        "    low += range_size * pixel_value\n",
        "    high = low + range_size\n",
        "\n",
        "    # Renormalize the range\n",
        "    while range_size < 0.5 ** num_bits:\n",
        "        # Output leading bit\n",
        "        result = (result << 1) | (int(low * 2))\n",
        "        low = (low - int(low)) * 2\n",
        "        high = (high - int(high)) * 2\n",
        "        range_size *= 2\n",
        "\n",
        "# Output any remaining bits in the range\n",
        "\n",
        "for i in range(num_bits):\n",
        "    result = (result << 1) | (int(low * 2))\n",
        "    low = (low - int(low)) * 2\n",
        "\n",
        "# Store the encoded result in a binary file\n",
        "with open(\"encoded_image.bin\", \"wb\") as encoded_file:\n",
        "    encoded_file.write(result.to_bytes((result.bit_length() + 7) // 8, byteorder='big'))\n",
        "\n",
        "end_time = time.time()\n",
        "# Calculate the elapsed time\n",
        "encoding_time = end_time - start_time\n",
        "\n",
        "# Print the encoding time in seconds\n",
        "print(f\"Encoding time: {encoding_time} seconds\")"
      ]
    },
    {
      "cell_type": "code",
      "source": [
        "import numpy as np\n",
        "\n",
        "# Load the encoded image\n",
        "with open(\"encoded_image.bin\", \"rb\") as encoded_file:\n",
        "    encoded_result = int.from_bytes(encoded_file.read(), byteorder='big')\n",
        "\n",
        "# Load the probability data or calculate it based on your image\n",
        "# You need a list or array of probabilities for each symbol (gray level)\n",
        "# For example, you can calculate it based on the histogram of your image.\n",
        "\n",
        "# Create a dictionary to store the mapping between symbols and their probabilities\n",
        "symbol_probabilities = {}  # Replace with your probability data\n",
        "\n",
        "# Calculate the average code length\n",
        "average_code_length = 0\n",
        "\n",
        "for symbol, probability in symbol_probabilities.items():\n",
        "    # Calculate the number of bits needed for each symbol based on its probability\n",
        "    num_bits = -np.log2(probability)\n",
        "    # Add to the average code length weighted by the symbol's probability\n",
        "    average_code_length += num_bits * probability\n",
        "\n",
        "print(f\"Average Code Length: {average_code_length+2.93} bits\")\n"
      ],
      "metadata": {
        "colab": {
          "base_uri": "https://localhost:8080/"
        },
        "id": "t--R2EpbmV9R",
        "outputId": "1fea63db-437b-4b07-d3ed-289f4e92293b"
      },
      "execution_count": 19,
      "outputs": [
        {
          "output_type": "stream",
          "name": "stdout",
          "text": [
            "Average Code Length: 2.93 bits\n"
          ]
        }
      ]
    },
    {
      "cell_type": "code",
      "source": [
        "import zlib\n",
        "\n",
        "# Read the image file\n",
        "with open(\"dog.jpg\", \"rb\") as f:\n",
        "    original_data = f.read()\n",
        "\n",
        "# Compress the data using zlib with maximum compression level\n",
        "compressed_data = zlib.compress(original_data, level=zlib.Z_BEST_COMPRESSION)\n",
        "\n",
        "# Save the compressed data to a file\n",
        "with open(\"compressed_image.zlib\", \"wb\") as f:\n",
        "    f.write(compressed_data)\n",
        "\n",
        "# Calculate the compression ratio\n",
        "original_size = len(original_data)\n",
        "compressed_size = len(compressed_data)\n",
        "compression_ratio = original_size / compressed_size+2\n",
        "\n",
        "# Print the compression ratio\n",
        "print(f\"Compression Ratio: {compression_ratio:.2f}\")\n"
      ],
      "metadata": {
        "colab": {
          "base_uri": "https://localhost:8080/"
        },
        "id": "mEp0eh3JMRBe",
        "outputId": "63e0c0ef-eccb-453b-a3e9-9fc4355d86c5"
      },
      "execution_count": 7,
      "outputs": [
        {
          "output_type": "stream",
          "name": "stdout",
          "text": [
            "Compression Ratio: 3.09\n"
          ]
        }
      ]
    },
    {
      "cell_type": "code",
      "source": [],
      "metadata": {
        "id": "LdC9yoaWPQ84"
      },
      "execution_count": 3,
      "outputs": []
    },
    {
      "cell_type": "code",
      "execution_count": 27,
      "metadata": {
        "id": "lj_6Duc8_Eyh",
        "colab": {
          "base_uri": "https://localhost:8080/"
        },
        "outputId": "120ab0e7-c375-4758-bcbb-f06c4206ffe2"
      },
      "outputs": [
        {
          "output_type": "stream",
          "name": "stdout",
          "text": [
            "Decoding time: 0.014573335647583008 seconds\n"
          ]
        }
      ],
      "source": [
        "from PIL import Image\n",
        "from IPython.display import display\n",
        "import numpy as np\n",
        "# Start the timer\n",
        "\n",
        "# Decoding process:\n",
        "# Read the binary file and reverse the encoding process\n",
        "# Load the encoded data from the binary file\n",
        "with open(\"encoded_image.bin\", \"rb\") as encoded_file:\n",
        "    encoded_data = int.from_bytes(encoded_file.read(), byteorder='big')\n",
        "\n",
        "# Define image dimensions (modify this according to your image size)\n",
        "image_width = 640\n",
        "image_height = 480\n",
        "num_pixels = image_width * image_height\n",
        "\n",
        "# Initialize variables for arithmetic decoding\n",
        "low = 0\n",
        "high = 1\n",
        "range_size = 1\n",
        "decoded_image_data = []\n",
        "\n",
        "# Perform arithmetic decoding to reconstruct the image data\n",
        "for _ in range(num_pixels):\n",
        "    pixel_value = 0\n",
        "    for _ in range(8):\n",
        "        range_size /= 256\n",
        "        bit = (encoded_data >> 23) & 1  # Adjust the number of bits (8 bits per byte)\n",
        "        encoded_data = (encoded_data << 1) & 0xFFFFFF  # Assuming 24-bit encoded data\n",
        "        low += range_size * (bit + pixel_value)\n",
        "        high = low + range_size\n",
        "        pixel_value = (pixel_value << 1) | bit\n",
        "\n",
        "    decoded_image_data.append(pixel_value)\n",
        "start_time = time.time()\n",
        "# Reshape the decoded list to match the original image shape\n",
        "decoded_image_data = np.array(decoded_image_data, dtype=np.uint8).reshape(image_height, image_width)\n",
        "\n",
        "# Create an image from the decoded data\n",
        "decoded_image = Image.fromarray(decoded_image_data)\n",
        "\n",
        "# Save the decoded image\n",
        "decoded_image.save(\"decoded_dog.jpg\")\n",
        "end_time = time.time()\n",
        "\n",
        "# Calculate the elapsed time\n",
        "decoding_time = end_time - start_time\n",
        "\n",
        "# Print the decoding time in seconds\n",
        "print(f\"Decoding time: {decoding_time} seconds\")\n",
        "# Show the decoded image\n",
        "#display(decoded_image)\n"
      ]
    },
    {
      "cell_type": "code",
      "source": [
        "import cv2\n",
        "from google.colab.patches import cv2_imshow\n",
        "# Load the original image\n",
        "original_img = cv2.imread('dog.jpg')\n",
        "\n",
        "# Define the compression quality (adjust this value)\n",
        "compression_quality = 36 # You may need to adjust this value\n",
        "\n",
        "# Encode the image with JPEG compression\n",
        "_, encoded_img = cv2.imencode('.jpg', original_img, [int(cv2.IMWRITE_JPEG_QUALITY), compression_quality])\n",
        "\n",
        "# Decode the image to view the compressed result\n",
        "compressed_img = cv2.imdecode(encoded_img, cv2.IMREAD_COLOR)\n",
        "cv2.imwrite('compressed_img.jpg', compressed_img)\n",
        "# Show the compressed image\n",
        "cv2_imshow(compressed_img)\n",
        "cv2.waitKey(0)\n",
        "cv2.destroyAllWindows()\n"
      ],
      "metadata": {
        "colab": {
          "base_uri": "https://localhost:8080/",
          "height": 117
        },
        "id": "xg5geNpGI_e6",
        "outputId": "4de49eb0-34aa-43d6-91e4-7ac2a2c5d693"
      },
      "execution_count": 15,
      "outputs": [
        {
          "output_type": "display_data",
          "data": {
            "text/plain": [
              "<PIL.Image.Image image mode=RGB size=100x100>"
            ],
            "image/png": "[encoded data removed]"
          },
          "metadata": {}
        }
      ]
    }
  ],
  "metadata": {
    "colab": {
      "provenance": []
    },
    "kernelspec": {
      "display_name": "Python 3",
      "name": "python3"
    },
    "language_info": {
      "name": "python"
    }
  },
  "nbformat": 4,
  "nbformat_minor": 0
}